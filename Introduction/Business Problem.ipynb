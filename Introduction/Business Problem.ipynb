{
    "cells": [
        {
            "cell_type": "markdown",
            "metadata": {
                "collapsed": true
            },
            "source": "# Introduction: Business Problem "
        },
        {
            "cell_type": "markdown",
            "metadata": {},
            "source": "In the following project, I am going to try to find an optimal location for a restaurant. This report will have interest to stakeholders who are interested to an Japanese food restaurant in the city of Buenos Aires.\n\n\nBuenos Aires is one of the biggest the cities of Latin-American, with a great number of restaurants. Therefore, it will try to locate that is not crowded with restaurants. And, that are no Japanese food restaurant nearby. Moreover, location near to the city center will be preferable, as more tourists and locals could visit it. \n"
        },
        {
            "cell_type": "code",
            "execution_count": null,
            "metadata": {},
            "outputs": [],
            "source": ""
        }
    ],
    "metadata": {
        "kernelspec": {
            "display_name": "Python 3.6",
            "language": "python",
            "name": "python3"
        },
        "language_info": {
            "codemirror_mode": {
                "name": "ipython",
                "version": 3
            },
            "file_extension": ".py",
            "mimetype": "text/x-python",
            "name": "python",
            "nbconvert_exporter": "python",
            "pygments_lexer": "ipython3",
            "version": "3.6.9"
        }
    },
    "nbformat": 4,
    "nbformat_minor": 1
}