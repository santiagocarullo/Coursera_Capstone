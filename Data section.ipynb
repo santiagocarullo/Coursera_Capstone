{
    "cells": [
        {
            "cell_type": "markdown",
            "metadata": {
                "collapsed": true
            },
            "source": "# Data section"
        },
        {
            "cell_type": "markdown",
            "metadata": {},
            "source": "Based on definition of our problem, factors that have to be taken into account:\n* number of existing restaurants in the neighborhood (any type of restaurant)\n* number of and distance to Japanese food restaurants in the neighborhood, if any\n* distance of neighborhood from city center\n\nWe decided to use regularly spaced grid of locations, centered around city center, to define our neighborhoods.\n\nFollowing data sources will be needed to extract/generate the required information:\n* centers of candidate areas will be generated algorithmically and approximate addresses of centers of those areas will be obtained using **Google Maps API reverse geocoding**\n* number of restaurants and their type and location in every neighborhood will be obtained using **Foursquare API**\n* coordinate of Buenos Aires center will be obtained using **Google Maps API geocoding** of well known Buenos Aires location (Obelisco)"
        },
        {
            "cell_type": "code",
            "execution_count": null,
            "metadata": {},
            "outputs": [],
            "source": ""
        }
    ],
    "metadata": {
        "kernelspec": {
            "display_name": "Python 3.6",
            "language": "python",
            "name": "python3"
        },
        "language_info": {
            "codemirror_mode": {
                "name": "ipython",
                "version": 3
            },
            "file_extension": ".py",
            "mimetype": "text/x-python",
            "name": "python",
            "nbconvert_exporter": "python",
            "pygments_lexer": "ipython3",
            "version": "3.6.9"
        }
    },
    "nbformat": 4,
    "nbformat_minor": 1
}